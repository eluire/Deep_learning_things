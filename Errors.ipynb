{
 "cells": [
  {
   "cell_type": "code",
   "execution_count": 10,
   "metadata": {
    "scrolled": true
   },
   "outputs": [],
   "source": [
    "# Nao é usado nas aplicaçoes de Redes neurais(muito simples)\n",
    "def absolut_error(esperado,obtido):\n",
    "    \n",
    "    Erro_abs = obtido - esperado\n",
    "    # n me lembro o metodo para tirar o modulo\n",
    "    if obtido - esperado < 1:\n",
    "        Erro_abs = Erro_abs*(-1)\n",
    "        \n",
    "    return Erro_abs\n"
   ]
  },
  {
   "cell_type": "markdown",
   "metadata": {},
   "source": [
    "## Erro absoluto:\n",
    "![imagem](https://encrypted-tbn0.gstatic.com/images?q=tbn:ANd9GcTu9N1Y-p4Hs21xPnjglGUNcZB1WYsY6hC4uRhk5dGTojhP7upN9w)"
   ]
  },
  {
   "cell_type": "code",
   "execution_count": 11,
   "metadata": {},
   "outputs": [],
   "source": [
    "def MSE(esperado,obtido,qt_registros):\n",
    "    \n",
    "    erro = (1/qt_registros)*(((esperado-obtido)**2).sum(qt_registros))\n",
    "    \n",
    "    return erro\n"
   ]
  },
  {
   "cell_type": "markdown",
   "metadata": {},
   "source": [
    "## Mean squared error:\n",
    "![imagem](https://i.stack.imgur.com/19Cmk.gif)"
   ]
  },
  {
   "cell_type": "code",
   "execution_count": 12,
   "metadata": {},
   "outputs": [],
   "source": [
    "def RMSE(esperado,obtido,qt_registros):\n",
    "    \n",
    "    erro = sqrt((1/qt_registros)*(((esperado-obtido)**2).sum(qt_registros)))\n",
    "    \n",
    "    return erro"
   ]
  },
  {
   "cell_type": "markdown",
   "metadata": {},
   "source": [
    "## Root mean squared error:\n",
    "![imagem](https://www.easycalculation.com/maths-dictionary/images/root-mean-squared-error.png)"
   ]
  },
  {
   "cell_type": "code",
   "execution_count": null,
   "metadata": {},
   "outputs": [],
   "source": []
  }
 ],
 "metadata": {
  "kernelspec": {
   "display_name": "Python 3",
   "language": "python",
   "name": "python3"
  },
  "language_info": {
   "codemirror_mode": {
    "name": "ipython",
    "version": 3
   },
   "file_extension": ".py",
   "mimetype": "text/x-python",
   "name": "python",
   "nbconvert_exporter": "python",
   "pygments_lexer": "ipython3",
   "version": "3.6.5"
  }
 },
 "nbformat": 4,
 "nbformat_minor": 2
}
