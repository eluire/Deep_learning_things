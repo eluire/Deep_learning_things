{
 "cells": [
  {
   "cell_type": "code",
   "execution_count": 10,
   "metadata": {
    "scrolled": true
   },
   "outputs": [],
   "source": [
    "# Nao é usado nas aplicaçoes de Redes neurais(muito simples)\n",
    "def absolut_error(esperado,obtido):\n",
    "    \n",
    "    Erro_abs = obtido - esperado\n",
    "    # n me lembro o metodo para tirar o modulo\n",
    "    if obtido - esperado < 1:\n",
    "        Erro_abs = Erro_abs*(-1)\n",
    "        \n",
    "    return Erro_abs\n"
   ]
  },
  {
   "cell_type": "markdown",
   "metadata": {},
   "source": [
    "## Erro absoluto:\n",
    "![imagem](https://encrypted-tbn0.gstatic.com/images?q=tbn:ANd9GcTu9N1Y-p4Hs21xPnjglGUNcZB1WYsY6hC4uRhk5dGTojhP7upN9w)"
   ]
  },
  {
   "cell_type": "code",
   "execution_count": 11,
   "metadata": {},
   "outputs": [],
   "source": [
    "def MSE(esperado,obtido,qt_registros):\n",
    "    \n",
    "    erro = (1/qt_registros)*(((esperado-obtido)**2).sum(qt_registros))\n",
    "    \n",
    "    return erro\n"
   ]
  },
  {
   "cell_type": "markdown",
   "metadata": {},
   "source": [
    "## Mean squared error:\n",
    "![imagem](data:image/png;base64,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)"
   ]
  },
  {
   "cell_type": "code",
   "execution_count": 12,
   "metadata": {},
   "outputs": [],
   "source": [
    "def RMSE(esperado,obtido,qt_registros):\n",
    "    \n",
    "    erro = sqrt((1/qt_registros)*(((esperado-obtido)**2).sum(qt_registros)))\n",
    "    \n",
    "    return erro"
   ]
  },
  {
   "cell_type": "markdown",
   "metadata": {},
   "source": [
    "## Root mean squared error:\n",
    "![imagem](https://www.easycalculation.com/maths-dictionary/images/root-mean-squared-error.png)"
   ]
  },
  {
   "cell_type": "code",
   "execution_count": null,
   "metadata": {},
   "outputs": [],
   "source": []
  }
 ],
 "metadata": {
  "kernelspec": {
   "display_name": "Python 3",
   "language": "python",
   "name": "python3"
  },
  "language_info": {
   "codemirror_mode": {
    "name": "ipython",
    "version": 3
   },
   "file_extension": ".py",
   "mimetype": "text/x-python",
   "name": "python",
   "nbconvert_exporter": "python",
   "pygments_lexer": "ipython3",
   "version": "3.6.5"
  }
 },
 "nbformat": 4,
 "nbformat_minor": 2
}
