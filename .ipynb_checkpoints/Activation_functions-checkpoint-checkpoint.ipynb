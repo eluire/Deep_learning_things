{
 "cells": [
  {
   "cell_type": "code",
   "execution_count": 11,
   "metadata": {},
   "outputs": [],
   "source": [
    "import numpy as np\n",
    "from math import exp\n"
   ]
  },
  {
   "cell_type": "code",
   "execution_count": 12,
   "metadata": {},
   "outputs": [],
   "source": [
    "#para redes linearmente separáveis \n",
    "def step_function(soma):\n",
    "\n",
    "    if soma >= 1:\n",
    "        return 1\n",
    "    else:\n",
    "        return 0\n",
    "    \n",
    "    "
   ]
  },
  {
   "cell_type": "markdown",
   "metadata": {},
   "source": [
    "## Exemplo step function:\n",
    "\n",
    "![imagem](https://www.intmath.com/laplace-transformation/svg/svgphp-unit-step-functions-definition-1a-s0.svg)"
   ]
  },
  {
   "cell_type": "code",
   "execution_count": 13,
   "metadata": {},
   "outputs": [],
   "source": [
    "#ideal para classificações binárias\n",
    "def sig_function(soma):\n",
    "    \n",
    "    return (1/(1+exp(-soma)))\n",
    "\n",
    "\n"
   ]
  },
  {
   "cell_type": "markdown",
   "metadata": {},
   "source": [
    "## Exemplo sigmoid function:\n",
    "![imagem](https://qph.fs.quoracdn.net/main-qimg-07066668c05a556f1ff25040414a32b7)"
   ]
  },
  {
   "cell_type": "code",
   "execution_count": 14,
   "metadata": {},
   "outputs": [],
   "source": [
    "#ideal para classificações binárias\n",
    "def hyperbolic_tanget_function(soma):\n",
    "    \n",
    "    return ((exp(soma)-exp(-soma))/(exp(soma)-exp(-soma)))\n",
    "\n",
    "\n",
    "\n"
   ]
  },
  {
   "cell_type": "markdown",
   "metadata": {},
   "source": [
    "## Exemplo hyperbolic tangent function:\n",
    "![imagem](http://mathworld.wolfram.com/images/interactive/TanhReal.gif)"
   ]
  },
  {
   "cell_type": "code",
   "execution_count": 15,
   "metadata": {},
   "outputs": [],
   "source": [
    "#função mais utilizada nas CNNs \n",
    "def RelU(soma):\n",
    "    if soma >= 0:\n",
    "        return soma\n",
    "    else:\n",
    "        return 0\n",
    "    \n",
    "\n",
    "    "
   ]
  },
  {
   "cell_type": "markdown",
   "metadata": {},
   "source": [
    "## Exemplo RelU function:\n",
    "![imagem](https://i.imgur.com/gKA4kA9.jpg)"
   ]
  },
  {
   "cell_type": "code",
   "execution_count": 16,
   "metadata": {},
   "outputs": [],
   "source": [
    "#nao muda os valores das somas(não faz nada)\n",
    "def linear_function(soma):\n",
    "    return soma\n",
    "    "
   ]
  },
  {
   "cell_type": "markdown",
   "metadata": {},
   "source": [
    "## Exemplo Linear function:\n",
    "![imagem](https://d2gne97vdumgn3.cloudfront.net/api/file/WyB4Ik0S0CAE1fXAnzB5)\n",
    "\n"
   ]
  },
  {
   "cell_type": "code",
   "execution_count": 17,
   "metadata": {},
   "outputs": [],
   "source": [
    "#indicado para problemas com mais de uma classe(multiclass)\n",
    "def softmax_function(x):\n",
    "    \n",
    "    exponencial = np.exp(x)\n",
    "    return exponencial/exponencial.sum()\n"
   ]
  }
 ],
 "metadata": {
  "kernelspec": {
   "display_name": "Python 3",
   "language": "python",
   "name": "python3"
  },
  "language_info": {
   "codemirror_mode": {
    "name": "ipython",
    "version": 3
   },
   "file_extension": ".py",
   "mimetype": "text/x-python",
   "name": "python",
   "nbconvert_exporter": "python",
   "pygments_lexer": "ipython3",
   "version": "3.6.5"
  }
 },
 "nbformat": 4,
 "nbformat_minor": 2
}
